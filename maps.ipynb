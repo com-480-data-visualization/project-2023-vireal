{
 "cells": [
  {
   "cell_type": "code",
   "execution_count": 21,
   "metadata": {
    "collapsed": true
   },
   "outputs": [],
   "source": [
    "import pandas as pd"
   ]
  },
  {
   "cell_type": "code",
   "execution_count": 22,
   "outputs": [],
   "source": [
    "# Imports by selected importing countries in thousand 60-kg bags\n",
    "imports_df = pd.read_csv(\"data/ico/imports.csv\")\n",
    "# Re-exports by selected importing countries in thousand 60-kg bags\n",
    "exports_df = pd.read_csv(\"data/ico/exports-calendar-year.csv\")"
   ],
   "metadata": {
    "collapsed": false
   }
  },
  {
   "cell_type": "code",
   "execution_count": 23,
   "outputs": [
    {
     "data": {
      "text/plain": "                 imports    1990    1991    1992    1993    1994    1995  \\\n0                Austria  1880.0  2058.0  2206.0  1836.0  1417.0  1231.0   \n1                Belgium     NaN     NaN     NaN     NaN     NaN     NaN   \n2     Belgium/Luxembourg  2015.0  1746.0  1828.0  2063.0  2262.0  2401.0   \n3               Bulgaria   268.0   200.0   182.0   397.0   463.0   515.0   \n4                Croatia     NaN     NaN   168.0   163.0   193.0   320.0   \n\n     1996    1997    1998  ...    2009    2010    2011    2012    2013  2014  \\\n0  1210.0  1294.0  1293.0  ...  1309.0  1369.0  1452.0  1559.0  1555.0   NaN   \n1     NaN     NaN     NaN  ...  5916.0  5924.0  5828.0  5668.0  5502.0   NaN   \n2  2526.0  2544.0  3580.0  ...     NaN     NaN     NaN     NaN     NaN   NaN   \n3   272.0   294.0   342.0  ...   523.0   528.0   482.0   560.0   609.0   NaN   \n4   322.0   385.0   339.0  ...   394.0   394.0   391.0   384.0   413.0   NaN   \n\n   2015  2016  2017  2018  \n0   NaN   NaN   NaN   NaN  \n1   NaN   NaN   NaN   NaN  \n2   NaN   NaN   NaN   NaN  \n3   NaN   NaN   NaN   NaN  \n4   NaN   NaN   NaN   NaN  \n\n[5 rows x 30 columns]",
      "text/html": "<div>\n<style scoped>\n    .dataframe tbody tr th:only-of-type {\n        vertical-align: middle;\n    }\n\n    .dataframe tbody tr th {\n        vertical-align: top;\n    }\n\n    .dataframe thead th {\n        text-align: right;\n    }\n</style>\n<table border=\"1\" class=\"dataframe\">\n  <thead>\n    <tr style=\"text-align: right;\">\n      <th></th>\n      <th>imports</th>\n      <th>1990</th>\n      <th>1991</th>\n      <th>1992</th>\n      <th>1993</th>\n      <th>1994</th>\n      <th>1995</th>\n      <th>1996</th>\n      <th>1997</th>\n      <th>1998</th>\n      <th>...</th>\n      <th>2009</th>\n      <th>2010</th>\n      <th>2011</th>\n      <th>2012</th>\n      <th>2013</th>\n      <th>2014</th>\n      <th>2015</th>\n      <th>2016</th>\n      <th>2017</th>\n      <th>2018</th>\n    </tr>\n  </thead>\n  <tbody>\n    <tr>\n      <th>0</th>\n      <td>Austria</td>\n      <td>1880.0</td>\n      <td>2058.0</td>\n      <td>2206.0</td>\n      <td>1836.0</td>\n      <td>1417.0</td>\n      <td>1231.0</td>\n      <td>1210.0</td>\n      <td>1294.0</td>\n      <td>1293.0</td>\n      <td>...</td>\n      <td>1309.0</td>\n      <td>1369.0</td>\n      <td>1452.0</td>\n      <td>1559.0</td>\n      <td>1555.0</td>\n      <td>NaN</td>\n      <td>NaN</td>\n      <td>NaN</td>\n      <td>NaN</td>\n      <td>NaN</td>\n    </tr>\n    <tr>\n      <th>1</th>\n      <td>Belgium</td>\n      <td>NaN</td>\n      <td>NaN</td>\n      <td>NaN</td>\n      <td>NaN</td>\n      <td>NaN</td>\n      <td>NaN</td>\n      <td>NaN</td>\n      <td>NaN</td>\n      <td>NaN</td>\n      <td>...</td>\n      <td>5916.0</td>\n      <td>5924.0</td>\n      <td>5828.0</td>\n      <td>5668.0</td>\n      <td>5502.0</td>\n      <td>NaN</td>\n      <td>NaN</td>\n      <td>NaN</td>\n      <td>NaN</td>\n      <td>NaN</td>\n    </tr>\n    <tr>\n      <th>2</th>\n      <td>Belgium/Luxembourg</td>\n      <td>2015.0</td>\n      <td>1746.0</td>\n      <td>1828.0</td>\n      <td>2063.0</td>\n      <td>2262.0</td>\n      <td>2401.0</td>\n      <td>2526.0</td>\n      <td>2544.0</td>\n      <td>3580.0</td>\n      <td>...</td>\n      <td>NaN</td>\n      <td>NaN</td>\n      <td>NaN</td>\n      <td>NaN</td>\n      <td>NaN</td>\n      <td>NaN</td>\n      <td>NaN</td>\n      <td>NaN</td>\n      <td>NaN</td>\n      <td>NaN</td>\n    </tr>\n    <tr>\n      <th>3</th>\n      <td>Bulgaria</td>\n      <td>268.0</td>\n      <td>200.0</td>\n      <td>182.0</td>\n      <td>397.0</td>\n      <td>463.0</td>\n      <td>515.0</td>\n      <td>272.0</td>\n      <td>294.0</td>\n      <td>342.0</td>\n      <td>...</td>\n      <td>523.0</td>\n      <td>528.0</td>\n      <td>482.0</td>\n      <td>560.0</td>\n      <td>609.0</td>\n      <td>NaN</td>\n      <td>NaN</td>\n      <td>NaN</td>\n      <td>NaN</td>\n      <td>NaN</td>\n    </tr>\n    <tr>\n      <th>4</th>\n      <td>Croatia</td>\n      <td>NaN</td>\n      <td>NaN</td>\n      <td>168.0</td>\n      <td>163.0</td>\n      <td>193.0</td>\n      <td>320.0</td>\n      <td>322.0</td>\n      <td>385.0</td>\n      <td>339.0</td>\n      <td>...</td>\n      <td>394.0</td>\n      <td>394.0</td>\n      <td>391.0</td>\n      <td>384.0</td>\n      <td>413.0</td>\n      <td>NaN</td>\n      <td>NaN</td>\n      <td>NaN</td>\n      <td>NaN</td>\n      <td>NaN</td>\n    </tr>\n  </tbody>\n</table>\n<p>5 rows × 30 columns</p>\n</div>"
     },
     "execution_count": 23,
     "metadata": {},
     "output_type": "execute_result"
    }
   ],
   "source": [
    "imports_df.head()"
   ],
   "metadata": {
    "collapsed": false
   }
  },
  {
   "cell_type": "code",
   "execution_count": 24,
   "outputs": [
    {
     "data": {
      "text/plain": "                            exports        1990          1991          1992  \\\n0                            Angola     84.3500     70.501000     80.250000   \n1                             Benin      0.0000      0.000000      0.000000   \n2  Bolivia (Plurinational State of)    156.4420     73.523000     96.204000   \n3                            Brazil  16935.7876  21182.761402  18790.719202   \n4                           Burundi    584.7730    687.851000    645.858000   \n\n           1993        1994          1995          1996          1997  \\\n0     38.878000      8.3020     40.559000     51.831000     50.494000   \n1      1.805000      0.0500      0.000000      0.000000      0.000000   \n2     47.319000     84.3210     93.958000    123.445000    110.955000   \n3  17837.747999  17273.1476  14468.432201  15250.609002  16801.260005   \n4    417.609000    507.8030    528.202000    224.076000    528.764000   \n\n           1998  ...          2009          2010          2011          2012  \\\n0     53.929000  ...      6.925000      4.370000      7.575000      8.375000   \n1      0.000000  ...      0.000000      0.000000      0.000000      0.000000   \n2     97.039000  ...     82.608773     78.268006     74.308883     62.675780   \n3  18144.388334  ...  30377.981636  33166.641590  33806.009328  28549.425891   \n4    373.841000  ...    288.830000    307.118958    217.845799    392.006917   \n\n           2013          2014          2015          2016          2017  \\\n0      5.520000      9.375000     10.515000     10.945000      9.055000   \n1      0.000000      0.000000      0.000000      0.000000      0.000000   \n2     54.850533     61.751267     30.280158     22.456342     26.119992   \n3  31650.562945  37335.172825  37562.846747  34269.150253  30924.567849   \n4    194.715883    252.178000    230.188550    261.295433    168.876264   \n\n           2018  \n0      9.323397  \n1      0.000000  \n2     22.459634  \n3  35382.556487  \n4    201.725236  \n\n[5 rows x 30 columns]",
      "text/html": "<div>\n<style scoped>\n    .dataframe tbody tr th:only-of-type {\n        vertical-align: middle;\n    }\n\n    .dataframe tbody tr th {\n        vertical-align: top;\n    }\n\n    .dataframe thead th {\n        text-align: right;\n    }\n</style>\n<table border=\"1\" class=\"dataframe\">\n  <thead>\n    <tr style=\"text-align: right;\">\n      <th></th>\n      <th>exports</th>\n      <th>1990</th>\n      <th>1991</th>\n      <th>1992</th>\n      <th>1993</th>\n      <th>1994</th>\n      <th>1995</th>\n      <th>1996</th>\n      <th>1997</th>\n      <th>1998</th>\n      <th>...</th>\n      <th>2009</th>\n      <th>2010</th>\n      <th>2011</th>\n      <th>2012</th>\n      <th>2013</th>\n      <th>2014</th>\n      <th>2015</th>\n      <th>2016</th>\n      <th>2017</th>\n      <th>2018</th>\n    </tr>\n  </thead>\n  <tbody>\n    <tr>\n      <th>0</th>\n      <td>Angola</td>\n      <td>84.3500</td>\n      <td>70.501000</td>\n      <td>80.250000</td>\n      <td>38.878000</td>\n      <td>8.3020</td>\n      <td>40.559000</td>\n      <td>51.831000</td>\n      <td>50.494000</td>\n      <td>53.929000</td>\n      <td>...</td>\n      <td>6.925000</td>\n      <td>4.370000</td>\n      <td>7.575000</td>\n      <td>8.375000</td>\n      <td>5.520000</td>\n      <td>9.375000</td>\n      <td>10.515000</td>\n      <td>10.945000</td>\n      <td>9.055000</td>\n      <td>9.323397</td>\n    </tr>\n    <tr>\n      <th>1</th>\n      <td>Benin</td>\n      <td>0.0000</td>\n      <td>0.000000</td>\n      <td>0.000000</td>\n      <td>1.805000</td>\n      <td>0.0500</td>\n      <td>0.000000</td>\n      <td>0.000000</td>\n      <td>0.000000</td>\n      <td>0.000000</td>\n      <td>...</td>\n      <td>0.000000</td>\n      <td>0.000000</td>\n      <td>0.000000</td>\n      <td>0.000000</td>\n      <td>0.000000</td>\n      <td>0.000000</td>\n      <td>0.000000</td>\n      <td>0.000000</td>\n      <td>0.000000</td>\n      <td>0.000000</td>\n    </tr>\n    <tr>\n      <th>2</th>\n      <td>Bolivia (Plurinational State of)</td>\n      <td>156.4420</td>\n      <td>73.523000</td>\n      <td>96.204000</td>\n      <td>47.319000</td>\n      <td>84.3210</td>\n      <td>93.958000</td>\n      <td>123.445000</td>\n      <td>110.955000</td>\n      <td>97.039000</td>\n      <td>...</td>\n      <td>82.608773</td>\n      <td>78.268006</td>\n      <td>74.308883</td>\n      <td>62.675780</td>\n      <td>54.850533</td>\n      <td>61.751267</td>\n      <td>30.280158</td>\n      <td>22.456342</td>\n      <td>26.119992</td>\n      <td>22.459634</td>\n    </tr>\n    <tr>\n      <th>3</th>\n      <td>Brazil</td>\n      <td>16935.7876</td>\n      <td>21182.761402</td>\n      <td>18790.719202</td>\n      <td>17837.747999</td>\n      <td>17273.1476</td>\n      <td>14468.432201</td>\n      <td>15250.609002</td>\n      <td>16801.260005</td>\n      <td>18144.388334</td>\n      <td>...</td>\n      <td>30377.981636</td>\n      <td>33166.641590</td>\n      <td>33806.009328</td>\n      <td>28549.425891</td>\n      <td>31650.562945</td>\n      <td>37335.172825</td>\n      <td>37562.846747</td>\n      <td>34269.150253</td>\n      <td>30924.567849</td>\n      <td>35382.556487</td>\n    </tr>\n    <tr>\n      <th>4</th>\n      <td>Burundi</td>\n      <td>584.7730</td>\n      <td>687.851000</td>\n      <td>645.858000</td>\n      <td>417.609000</td>\n      <td>507.8030</td>\n      <td>528.202000</td>\n      <td>224.076000</td>\n      <td>528.764000</td>\n      <td>373.841000</td>\n      <td>...</td>\n      <td>288.830000</td>\n      <td>307.118958</td>\n      <td>217.845799</td>\n      <td>392.006917</td>\n      <td>194.715883</td>\n      <td>252.178000</td>\n      <td>230.188550</td>\n      <td>261.295433</td>\n      <td>168.876264</td>\n      <td>201.725236</td>\n    </tr>\n  </tbody>\n</table>\n<p>5 rows × 30 columns</p>\n</div>"
     },
     "execution_count": 24,
     "metadata": {},
     "output_type": "execute_result"
    }
   ],
   "source": [
    "exports_df.head()"
   ],
   "metadata": {
    "collapsed": false
   }
  },
  {
   "cell_type": "code",
   "execution_count": 25,
   "outputs": [],
   "source": [
    "# Now the dataset metrics are in tonnes\n",
    "name_imports_column = imports_df[\"imports\"]\n",
    "imports_df = imports_df.drop(\"imports\", axis=1) * 60\n",
    "imports_df[\"imports\"] = name_imports_column\n",
    "name_exports_column = exports_df[\"exports\"]\n",
    "exports_df = exports_df.drop(\"exports\", axis=1) * 60\n",
    "exports_df[\"exports\"] = name_exports_column"
   ],
   "metadata": {
    "collapsed": false
   }
  },
  {
   "cell_type": "code",
   "execution_count": 26,
   "outputs": [],
   "source": [
    "# Sanitize country name and compute average values\n",
    "year_columns = [str(year) for year in range(1990, 2019)]\n",
    "imports_df['average'] = imports_df[year_columns].mean(axis=1)\n",
    "imports_df['country_name'] = imports_df['imports'].str.strip()\n",
    "exports_df['average'] = exports_df[year_columns].mean(axis=1)\n",
    "exports_df['country_name'] = exports_df['exports'].str.strip()"
   ],
   "metadata": {
    "collapsed": false
   }
  },
  {
   "cell_type": "code",
   "execution_count": 27,
   "outputs": [],
   "source": [
    "# Replace some country names to follow name conventions\n",
    "imports_df.loc[imports_df[\"country_name\"] == \"USA\", \"country_name\"] = \"United States of America\"\n",
    "exports_df.loc[exports_df[\"country_name\"] == \"USA\", \"country_name\"] = \"United States of America\"\n",
    "\n",
    "imports_df.loc[imports_df[\"country_name\"] == \"Bolivia (Plurinational State of)\", \"country_name\"] = \"Bolivia\"\n",
    "exports_df.loc[exports_df[\"country_name\"] == \"Bolivia (Plurinational State of)\", \"country_name\"] = \"Bolivia\"\n",
    "\n",
    "imports_df.loc[imports_df[\"country_name\"] == \"Russian Federation\", \"country_name\"] = \"Russia\"\n",
    "exports_df.loc[exports_df[\"country_name\"] == \"Russian Federation\", \"country_name\"] = \"Russia\"\n",
    "\n",
    "imports_df.loc[imports_df[\"country_name\"] == \"China, People's Republic of\", \"country_name\"] = \"China\"\n",
    "exports_df.loc[exports_df[\"country_name\"] == \"China, People's Republic of\", \"country_name\"] = \"China\"\n",
    "\n",
    "imports_df.loc[imports_df[\"country_name\"] == \"South Africa, Rep.of\", \"country_name\"] = \"South Africa\"\n",
    "exports_df.loc[exports_df[\"country_name\"] == \"South Africa, Rep.of\", \"country_name\"] = \"South Africa\"\n",
    "\n",
    "imports_df.loc[imports_df[\"country_name\"] == \"Viet Nam\", \"country_name\"] = \"Vietnam\"\n",
    "exports_df.loc[exports_df[\"country_name\"] == \"Viet Nam\", \"country_name\"] = \"Vietnam\"\n",
    "\n",
    "imports_df.loc[imports_df[\"country_name\"] == \"Czech Republic\", \"country_name\"] = \"Czechia\"\n",
    "exports_df.loc[exports_df[\"country_name\"] == \"Czech Republic\", \"country_name\"] = \"Czechia\""
   ],
   "metadata": {
    "collapsed": false
   }
  },
  {
   "cell_type": "code",
   "execution_count": 28,
   "outputs": [
    {
     "data": {
      "text/plain": "              1990           1991           1992           1993  \\\n0    112800.000000  123480.000000  132360.000000  110160.000000   \n1              NaN            NaN            NaN            NaN   \n2    120900.000000  104760.000000  109680.000000  123780.000000   \n3     16080.000000   12000.000000   10920.000000   23820.000000   \n4              NaN            NaN   10080.000000    9780.000000   \n..             ...            ...            ...            ...   \n142   40091.940120   44916.899862   57009.780360   52321.680054   \n143   30501.659910   34647.839946   41865.659988   38931.119730   \n144    6938.400150    8037.480048   12235.800078   11229.300210   \n145     116.220006     420.119994     175.680222     222.480072   \n146    2535.660054    1811.459874    2732.640072    1938.780042   \n\n              1994           1995           1996           1997  \\\n0     85020.000000   73860.000000   72600.000000   77640.000000   \n1              NaN            NaN            NaN            NaN   \n2    135720.000000  144060.000000  151560.000000  152640.000000   \n3     27780.000000   30900.000000   16320.000000   17640.000000   \n4     11580.000000   19200.000000   19320.000000   23100.000000   \n..             ...            ...            ...            ...   \n142   50614.800390   52639.860702   60571.800690   61191.060594   \n143   38784.960240   37813.680156   42693.360474   44587.080030   \n144    9223.619946   12007.560168   14893.500006   13476.720216   \n145     207.540204     483.300138     461.400096     608.580180   \n146    2398.680000    2335.320240    2523.540114    2518.680168   \n\n              1998           1999  ...      2012      2013     2014     2015  \\\n0     77580.000000   90000.000000  ...   93540.0   93300.0      NaN      NaN   \n1              NaN  180180.000000  ...  340080.0  330120.0      NaN      NaN   \n2    214800.000000            NaN  ...       NaN       NaN      NaN      NaN   \n3     20520.000000   22020.000000  ...   33600.0   36540.0      NaN      NaN   \n4     20340.000000   21120.000000  ...   23040.0   24780.0      NaN      NaN   \n..             ...            ...  ...       ...       ...      ...      ...   \n142   53989.740432   52705.620270  ...   65940.0   72120.0  59160.0  63360.0   \n143   38550.780276   39004.079730  ...   45600.0   48240.0  33720.0  37920.0   \n144   11898.600138   10597.020336  ...   15840.0   19200.0  20820.0  20880.0   \n145     670.619892     399.120054  ...     900.0    1140.0   1080.0    960.0   \n146    2869.740126    2705.400150  ...    3600.0    3600.0   3540.0   3600.0   \n\n        2016     2017     2018                imports        average  \\\n0        NaN      NaN      NaN                Austria   93065.000000   \n1        NaN      NaN      NaN                Belgium  278372.000000   \n2        NaN      NaN      NaN     Belgium/Luxembourg  139766.666667   \n3        NaN      NaN      NaN               Bulgaria   23835.000000   \n4        NaN      NaN      NaN                Croatia   20948.181818   \n..       ...      ...      ...                    ...            ...   \n142  56760.0  64200.0  63660.0          South America   56943.806953   \n143  31440.0  37620.0  35940.0              Argentina   37585.014834   \n144  21120.0  22560.0  23520.0                  Chile   15667.480606   \n145    900.0    600.0    840.0               Suriname     696.889120   \n146   3300.0   3360.0   3420.0                Uruguay    2996.491358   \n\n           country_name  \n0               Austria  \n1               Belgium  \n2    Belgium/Luxembourg  \n3              Bulgaria  \n4               Croatia  \n..                  ...  \n142       South America  \n143           Argentina  \n144               Chile  \n145            Suriname  \n146             Uruguay  \n\n[147 rows x 32 columns]",
      "text/html": "<div>\n<style scoped>\n    .dataframe tbody tr th:only-of-type {\n        vertical-align: middle;\n    }\n\n    .dataframe tbody tr th {\n        vertical-align: top;\n    }\n\n    .dataframe thead th {\n        text-align: right;\n    }\n</style>\n<table border=\"1\" class=\"dataframe\">\n  <thead>\n    <tr style=\"text-align: right;\">\n      <th></th>\n      <th>1990</th>\n      <th>1991</th>\n      <th>1992</th>\n      <th>1993</th>\n      <th>1994</th>\n      <th>1995</th>\n      <th>1996</th>\n      <th>1997</th>\n      <th>1998</th>\n      <th>1999</th>\n      <th>...</th>\n      <th>2012</th>\n      <th>2013</th>\n      <th>2014</th>\n      <th>2015</th>\n      <th>2016</th>\n      <th>2017</th>\n      <th>2018</th>\n      <th>imports</th>\n      <th>average</th>\n      <th>country_name</th>\n    </tr>\n  </thead>\n  <tbody>\n    <tr>\n      <th>0</th>\n      <td>112800.000000</td>\n      <td>123480.000000</td>\n      <td>132360.000000</td>\n      <td>110160.000000</td>\n      <td>85020.000000</td>\n      <td>73860.000000</td>\n      <td>72600.000000</td>\n      <td>77640.000000</td>\n      <td>77580.000000</td>\n      <td>90000.000000</td>\n      <td>...</td>\n      <td>93540.0</td>\n      <td>93300.0</td>\n      <td>NaN</td>\n      <td>NaN</td>\n      <td>NaN</td>\n      <td>NaN</td>\n      <td>NaN</td>\n      <td>Austria</td>\n      <td>93065.000000</td>\n      <td>Austria</td>\n    </tr>\n    <tr>\n      <th>1</th>\n      <td>NaN</td>\n      <td>NaN</td>\n      <td>NaN</td>\n      <td>NaN</td>\n      <td>NaN</td>\n      <td>NaN</td>\n      <td>NaN</td>\n      <td>NaN</td>\n      <td>NaN</td>\n      <td>180180.000000</td>\n      <td>...</td>\n      <td>340080.0</td>\n      <td>330120.0</td>\n      <td>NaN</td>\n      <td>NaN</td>\n      <td>NaN</td>\n      <td>NaN</td>\n      <td>NaN</td>\n      <td>Belgium</td>\n      <td>278372.000000</td>\n      <td>Belgium</td>\n    </tr>\n    <tr>\n      <th>2</th>\n      <td>120900.000000</td>\n      <td>104760.000000</td>\n      <td>109680.000000</td>\n      <td>123780.000000</td>\n      <td>135720.000000</td>\n      <td>144060.000000</td>\n      <td>151560.000000</td>\n      <td>152640.000000</td>\n      <td>214800.000000</td>\n      <td>NaN</td>\n      <td>...</td>\n      <td>NaN</td>\n      <td>NaN</td>\n      <td>NaN</td>\n      <td>NaN</td>\n      <td>NaN</td>\n      <td>NaN</td>\n      <td>NaN</td>\n      <td>Belgium/Luxembourg</td>\n      <td>139766.666667</td>\n      <td>Belgium/Luxembourg</td>\n    </tr>\n    <tr>\n      <th>3</th>\n      <td>16080.000000</td>\n      <td>12000.000000</td>\n      <td>10920.000000</td>\n      <td>23820.000000</td>\n      <td>27780.000000</td>\n      <td>30900.000000</td>\n      <td>16320.000000</td>\n      <td>17640.000000</td>\n      <td>20520.000000</td>\n      <td>22020.000000</td>\n      <td>...</td>\n      <td>33600.0</td>\n      <td>36540.0</td>\n      <td>NaN</td>\n      <td>NaN</td>\n      <td>NaN</td>\n      <td>NaN</td>\n      <td>NaN</td>\n      <td>Bulgaria</td>\n      <td>23835.000000</td>\n      <td>Bulgaria</td>\n    </tr>\n    <tr>\n      <th>4</th>\n      <td>NaN</td>\n      <td>NaN</td>\n      <td>10080.000000</td>\n      <td>9780.000000</td>\n      <td>11580.000000</td>\n      <td>19200.000000</td>\n      <td>19320.000000</td>\n      <td>23100.000000</td>\n      <td>20340.000000</td>\n      <td>21120.000000</td>\n      <td>...</td>\n      <td>23040.0</td>\n      <td>24780.0</td>\n      <td>NaN</td>\n      <td>NaN</td>\n      <td>NaN</td>\n      <td>NaN</td>\n      <td>NaN</td>\n      <td>Croatia</td>\n      <td>20948.181818</td>\n      <td>Croatia</td>\n    </tr>\n    <tr>\n      <th>...</th>\n      <td>...</td>\n      <td>...</td>\n      <td>...</td>\n      <td>...</td>\n      <td>...</td>\n      <td>...</td>\n      <td>...</td>\n      <td>...</td>\n      <td>...</td>\n      <td>...</td>\n      <td>...</td>\n      <td>...</td>\n      <td>...</td>\n      <td>...</td>\n      <td>...</td>\n      <td>...</td>\n      <td>...</td>\n      <td>...</td>\n      <td>...</td>\n      <td>...</td>\n      <td>...</td>\n    </tr>\n    <tr>\n      <th>142</th>\n      <td>40091.940120</td>\n      <td>44916.899862</td>\n      <td>57009.780360</td>\n      <td>52321.680054</td>\n      <td>50614.800390</td>\n      <td>52639.860702</td>\n      <td>60571.800690</td>\n      <td>61191.060594</td>\n      <td>53989.740432</td>\n      <td>52705.620270</td>\n      <td>...</td>\n      <td>65940.0</td>\n      <td>72120.0</td>\n      <td>59160.0</td>\n      <td>63360.0</td>\n      <td>56760.0</td>\n      <td>64200.0</td>\n      <td>63660.0</td>\n      <td>South America</td>\n      <td>56943.806953</td>\n      <td>South America</td>\n    </tr>\n    <tr>\n      <th>143</th>\n      <td>30501.659910</td>\n      <td>34647.839946</td>\n      <td>41865.659988</td>\n      <td>38931.119730</td>\n      <td>38784.960240</td>\n      <td>37813.680156</td>\n      <td>42693.360474</td>\n      <td>44587.080030</td>\n      <td>38550.780276</td>\n      <td>39004.079730</td>\n      <td>...</td>\n      <td>45600.0</td>\n      <td>48240.0</td>\n      <td>33720.0</td>\n      <td>37920.0</td>\n      <td>31440.0</td>\n      <td>37620.0</td>\n      <td>35940.0</td>\n      <td>Argentina</td>\n      <td>37585.014834</td>\n      <td>Argentina</td>\n    </tr>\n    <tr>\n      <th>144</th>\n      <td>6938.400150</td>\n      <td>8037.480048</td>\n      <td>12235.800078</td>\n      <td>11229.300210</td>\n      <td>9223.619946</td>\n      <td>12007.560168</td>\n      <td>14893.500006</td>\n      <td>13476.720216</td>\n      <td>11898.600138</td>\n      <td>10597.020336</td>\n      <td>...</td>\n      <td>15840.0</td>\n      <td>19200.0</td>\n      <td>20820.0</td>\n      <td>20880.0</td>\n      <td>21120.0</td>\n      <td>22560.0</td>\n      <td>23520.0</td>\n      <td>Chile</td>\n      <td>15667.480606</td>\n      <td>Chile</td>\n    </tr>\n    <tr>\n      <th>145</th>\n      <td>116.220006</td>\n      <td>420.119994</td>\n      <td>175.680222</td>\n      <td>222.480072</td>\n      <td>207.540204</td>\n      <td>483.300138</td>\n      <td>461.400096</td>\n      <td>608.580180</td>\n      <td>670.619892</td>\n      <td>399.120054</td>\n      <td>...</td>\n      <td>900.0</td>\n      <td>1140.0</td>\n      <td>1080.0</td>\n      <td>960.0</td>\n      <td>900.0</td>\n      <td>600.0</td>\n      <td>840.0</td>\n      <td>Suriname</td>\n      <td>696.889120</td>\n      <td>Suriname</td>\n    </tr>\n    <tr>\n      <th>146</th>\n      <td>2535.660054</td>\n      <td>1811.459874</td>\n      <td>2732.640072</td>\n      <td>1938.780042</td>\n      <td>2398.680000</td>\n      <td>2335.320240</td>\n      <td>2523.540114</td>\n      <td>2518.680168</td>\n      <td>2869.740126</td>\n      <td>2705.400150</td>\n      <td>...</td>\n      <td>3600.0</td>\n      <td>3600.0</td>\n      <td>3540.0</td>\n      <td>3600.0</td>\n      <td>3300.0</td>\n      <td>3360.0</td>\n      <td>3420.0</td>\n      <td>Uruguay</td>\n      <td>2996.491358</td>\n      <td>Uruguay</td>\n    </tr>\n  </tbody>\n</table>\n<p>147 rows × 32 columns</p>\n</div>"
     },
     "execution_count": 28,
     "metadata": {},
     "output_type": "execute_result"
    }
   ],
   "source": [
    "imports_df"
   ],
   "metadata": {
    "collapsed": false
   }
  },
  {
   "cell_type": "code",
   "execution_count": 28,
   "outputs": [],
   "source": [],
   "metadata": {
    "collapsed": false
   }
  },
  {
   "cell_type": "code",
   "execution_count": 28,
   "outputs": [],
   "source": [],
   "metadata": {
    "collapsed": false
   }
  },
  {
   "cell_type": "code",
   "execution_count": 29,
   "outputs": [],
   "source": [
    "# Fill nan values with the country average\n",
    "imports_df = imports_df.apply(lambda row: row.fillna(row[\"average\"]), axis=1)\n",
    "exports_df = exports_df.apply(lambda row: row.fillna(row[\"average\"]), axis=1)"
   ],
   "metadata": {
    "collapsed": false
   }
  },
  {
   "cell_type": "code",
   "execution_count": 30,
   "outputs": [],
   "source": [
    "# Sort in decreasing order by the average metric\n",
    "imports_df = imports_df.sort_values(by='average', ascending=False)\n",
    "exports_df = exports_df.sort_values(by='average', ascending=False)"
   ],
   "metadata": {
    "collapsed": false
   }
  },
  {
   "cell_type": "code",
   "execution_count": 31,
   "outputs": [],
   "source": [
    "# Compute the deciles for each of the columns\n",
    "imports_deciles = imports_df\\\n",
    "    .drop([\"average\", \"country_name\", \"imports\"], axis=1, inplace=False)\\\n",
    "    .apply(lambda x: x.quantile([.1, .2, .3, .4, .5, .6, .7, .8, .9]))\\\n",
    "    .reset_index()\\\n",
    "    .rename(columns = {'index':'decile'})\n",
    "\n",
    "exports_deciles = exports_df\\\n",
    "    .drop([\"average\", \"country_name\", \"exports\"], axis=1, inplace=False)\\\n",
    "    .apply(lambda x: x.quantile([.1, .2, .3, .4, .5, .6, .7, .8, .9]))\\\n",
    "    .reset_index()\\\n",
    "    .rename(columns = {'index':'decile'})"
   ],
   "metadata": {
    "collapsed": false
   }
  },
  {
   "cell_type": "code",
   "execution_count": 32,
   "outputs": [],
   "source": [
    "imports_json = imports_df.drop(\"imports\", axis=1).to_json(orient='records')\n",
    "with open('data/map_data/map_yearly_imports.json', 'w') as file:\n",
    "    file.write(imports_json)\n",
    "\n",
    "exports_json = exports_df.drop(\"exports\", axis=1).to_json(orient='records')\n",
    "with open('data/map_data/map_yearly_exports.json', 'w') as file:\n",
    "    file.write(exports_json)"
   ],
   "metadata": {
    "collapsed": false
   }
  },
  {
   "cell_type": "code",
   "execution_count": 33,
   "outputs": [],
   "source": [
    "imports_deciles_json = imports_deciles.to_json(orient='records')\n",
    "with open('data/map_data/map_deciles_imports.json', 'w') as file:\n",
    "    file.write(imports_deciles_json)\n",
    "\n",
    "exports_deciles_json = exports_deciles.to_json(orient='records')\n",
    "with open('data/map_data/map_deciles_exports.json', 'w') as file:\n",
    "    file.write(exports_deciles_json)"
   ],
   "metadata": {
    "collapsed": false
   }
  },
  {
   "cell_type": "code",
   "execution_count": null,
   "outputs": [],
   "source": [],
   "metadata": {
    "collapsed": false
   }
  }
 ],
 "metadata": {
  "kernelspec": {
   "display_name": "Python 3",
   "language": "python",
   "name": "python3"
  },
  "language_info": {
   "codemirror_mode": {
    "name": "ipython",
    "version": 2
   },
   "file_extension": ".py",
   "mimetype": "text/x-python",
   "name": "python",
   "nbconvert_exporter": "python",
   "pygments_lexer": "ipython2",
   "version": "2.7.6"
  }
 },
 "nbformat": 4,
 "nbformat_minor": 0
}
