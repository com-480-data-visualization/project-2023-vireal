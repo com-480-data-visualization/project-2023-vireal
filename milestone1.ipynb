{
 "cells": [
  {
   "cell_type": "markdown",
   "source": [
    "# Milestone 1"
   ],
   "metadata": {
    "collapsed": false
   }
  },
  {
   "cell_type": "code",
   "execution_count": 16,
   "outputs": [],
   "source": [
    "import pandas as pd"
   ],
   "metadata": {
    "collapsed": false
   }
  },
  {
   "cell_type": "code",
   "execution_count": 17,
   "outputs": [],
   "source": [
    "# First dataset : Coffee prices historical"
   ],
   "metadata": {
    "collapsed": false
   }
  },
  {
   "cell_type": "code",
   "execution_count": 18,
   "outputs": [],
   "source": [
    "coffee_prices_df = pd.read_csv(\"data/prices_historical/coffee-prices-historical-chart-data.csv\")"
   ],
   "metadata": {
    "collapsed": false
   }
  },
  {
   "cell_type": "code",
   "execution_count": 21,
   "outputs": [
    {
     "data": {
      "text/plain": "         date   value\n0  1973-08-20  0.6735\n1  1973-08-21  0.6710\n2  1973-08-22  0.6580\n3  1973-08-23  0.6675\n4  1973-08-24  0.6660",
      "text/html": "<div>\n<style scoped>\n    .dataframe tbody tr th:only-of-type {\n        vertical-align: middle;\n    }\n\n    .dataframe tbody tr th {\n        vertical-align: top;\n    }\n\n    .dataframe thead th {\n        text-align: right;\n    }\n</style>\n<table border=\"1\" class=\"dataframe\">\n  <thead>\n    <tr style=\"text-align: right;\">\n      <th></th>\n      <th>date</th>\n      <th>value</th>\n    </tr>\n  </thead>\n  <tbody>\n    <tr>\n      <th>0</th>\n      <td>1973-08-20</td>\n      <td>0.6735</td>\n    </tr>\n    <tr>\n      <th>1</th>\n      <td>1973-08-21</td>\n      <td>0.6710</td>\n    </tr>\n    <tr>\n      <th>2</th>\n      <td>1973-08-22</td>\n      <td>0.6580</td>\n    </tr>\n    <tr>\n      <th>3</th>\n      <td>1973-08-23</td>\n      <td>0.6675</td>\n    </tr>\n    <tr>\n      <th>4</th>\n      <td>1973-08-24</td>\n      <td>0.6660</td>\n    </tr>\n  </tbody>\n</table>\n</div>"
     },
     "execution_count": 21,
     "metadata": {},
     "output_type": "execute_result"
    }
   ],
   "source": [
    "coffee_prices_df.head()"
   ],
   "metadata": {
    "collapsed": false
   }
  },
  {
   "cell_type": "code",
   "execution_count": 19,
   "outputs": [
    {
     "data": {
      "text/plain": "              value\ncount  12147.000000\nmean       1.267276\nstd        0.478930\nmin        0.425000\n25%        0.948500\n50%        1.237000\n75%        1.470000\nmax        3.356300",
      "text/html": "<div>\n<style scoped>\n    .dataframe tbody tr th:only-of-type {\n        vertical-align: middle;\n    }\n\n    .dataframe tbody tr th {\n        vertical-align: top;\n    }\n\n    .dataframe thead th {\n        text-align: right;\n    }\n</style>\n<table border=\"1\" class=\"dataframe\">\n  <thead>\n    <tr style=\"text-align: right;\">\n      <th></th>\n      <th>value</th>\n    </tr>\n  </thead>\n  <tbody>\n    <tr>\n      <th>count</th>\n      <td>12147.000000</td>\n    </tr>\n    <tr>\n      <th>mean</th>\n      <td>1.267276</td>\n    </tr>\n    <tr>\n      <th>std</th>\n      <td>0.478930</td>\n    </tr>\n    <tr>\n      <th>min</th>\n      <td>0.425000</td>\n    </tr>\n    <tr>\n      <th>25%</th>\n      <td>0.948500</td>\n    </tr>\n    <tr>\n      <th>50%</th>\n      <td>1.237000</td>\n    </tr>\n    <tr>\n      <th>75%</th>\n      <td>1.470000</td>\n    </tr>\n    <tr>\n      <th>max</th>\n      <td>3.356300</td>\n    </tr>\n  </tbody>\n</table>\n</div>"
     },
     "execution_count": 19,
     "metadata": {},
     "output_type": "execute_result"
    }
   ],
   "source": [
    "coffee_prices_df.describe()"
   ],
   "metadata": {
    "collapsed": false
   }
  },
  {
   "cell_type": "code",
   "execution_count": 22,
   "outputs": [],
   "source": [
    "# Second dataset : Coffee consumption by country\n",
    "coffee_consumption_df = pd.read_csv(\"data/coffee_consumption/CoffeeConsumption.csv\")"
   ],
   "metadata": {
    "collapsed": false
   }
  },
  {
   "cell_type": "code",
   "execution_count": 23,
   "outputs": [
    {
     "data": {
      "text/plain": "         country  totCons2019  perCapitaCons2016\n0  United States      27310.0               9.26\n1        Germany       8670.0              12.13\n2          Japan       7551.0                NaN\n3         France       6192.0              11.90\n4          Italy       5469.0              13.00",
      "text/html": "<div>\n<style scoped>\n    .dataframe tbody tr th:only-of-type {\n        vertical-align: middle;\n    }\n\n    .dataframe tbody tr th {\n        vertical-align: top;\n    }\n\n    .dataframe thead th {\n        text-align: right;\n    }\n</style>\n<table border=\"1\" class=\"dataframe\">\n  <thead>\n    <tr style=\"text-align: right;\">\n      <th></th>\n      <th>country</th>\n      <th>totCons2019</th>\n      <th>perCapitaCons2016</th>\n    </tr>\n  </thead>\n  <tbody>\n    <tr>\n      <th>0</th>\n      <td>United States</td>\n      <td>27310.0</td>\n      <td>9.26</td>\n    </tr>\n    <tr>\n      <th>1</th>\n      <td>Germany</td>\n      <td>8670.0</td>\n      <td>12.13</td>\n    </tr>\n    <tr>\n      <th>2</th>\n      <td>Japan</td>\n      <td>7551.0</td>\n      <td>NaN</td>\n    </tr>\n    <tr>\n      <th>3</th>\n      <td>France</td>\n      <td>6192.0</td>\n      <td>11.90</td>\n    </tr>\n    <tr>\n      <th>4</th>\n      <td>Italy</td>\n      <td>5469.0</td>\n      <td>13.00</td>\n    </tr>\n  </tbody>\n</table>\n</div>"
     },
     "execution_count": 23,
     "metadata": {},
     "output_type": "execute_result"
    }
   ],
   "source": [
    "coffee_consumption_df.head()"
   ],
   "metadata": {
    "collapsed": false
   }
  },
  {
   "cell_type": "code",
   "execution_count": 24,
   "outputs": [
    {
     "data": {
      "text/plain": "        totCons2019  perCapitaCons2016\ncount     34.000000          25.000000\nmean    2560.735294          14.308800\nstd     4914.567907           4.313037\nmin       23.000000           9.260000\n25%      372.750000          11.240000\n50%     1002.000000          13.000000\n75%     2383.250000          17.420000\nmax    27310.000000          26.450000",
      "text/html": "<div>\n<style scoped>\n    .dataframe tbody tr th:only-of-type {\n        vertical-align: middle;\n    }\n\n    .dataframe tbody tr th {\n        vertical-align: top;\n    }\n\n    .dataframe thead th {\n        text-align: right;\n    }\n</style>\n<table border=\"1\" class=\"dataframe\">\n  <thead>\n    <tr style=\"text-align: right;\">\n      <th></th>\n      <th>totCons2019</th>\n      <th>perCapitaCons2016</th>\n    </tr>\n  </thead>\n  <tbody>\n    <tr>\n      <th>count</th>\n      <td>34.000000</td>\n      <td>25.000000</td>\n    </tr>\n    <tr>\n      <th>mean</th>\n      <td>2560.735294</td>\n      <td>14.308800</td>\n    </tr>\n    <tr>\n      <th>std</th>\n      <td>4914.567907</td>\n      <td>4.313037</td>\n    </tr>\n    <tr>\n      <th>min</th>\n      <td>23.000000</td>\n      <td>9.260000</td>\n    </tr>\n    <tr>\n      <th>25%</th>\n      <td>372.750000</td>\n      <td>11.240000</td>\n    </tr>\n    <tr>\n      <th>50%</th>\n      <td>1002.000000</td>\n      <td>13.000000</td>\n    </tr>\n    <tr>\n      <th>75%</th>\n      <td>2383.250000</td>\n      <td>17.420000</td>\n    </tr>\n    <tr>\n      <th>max</th>\n      <td>27310.000000</td>\n      <td>26.450000</td>\n    </tr>\n  </tbody>\n</table>\n</div>"
     },
     "execution_count": 24,
     "metadata": {},
     "output_type": "execute_result"
    }
   ],
   "source": [
    "coffee_consumption_df.describe()"
   ],
   "metadata": {
    "collapsed": false
   }
  },
  {
   "cell_type": "code",
   "execution_count": 7,
   "outputs": [],
   "source": [
    "# Fourth dataset : ICO Coffee Dataset (Worldwide)\n",
    "\n",
    "# Disappearance (consumption) in selected importing countries\n",
    "disappearance_df = pd.read_csv(\"data/ico/disappearance.csv\")\n",
    "# Domestic consumption by all exporting countries\n",
    "domestic_consumption_df = pd.read_csv(\"data/ico/domestic-consumption.csv\")\n",
    "# Exports of all forms of coffee by all exporting countries\n",
    "exports_calendar_year_df = pd.read_csv(\"data/ico/exports-calendar-year.csv\")\n",
    "# Total exports by all exporting countries\n",
    "exports_crop_year_df = pd.read_csv(\"data/ico/exports-crop-year.csv\")\n",
    "# Gross opening stocks in all exporting countries\n",
    "gross_opening_stocks_df = pd.read_csv(\"data/ico/gross-opening-stocks.csv\")\n",
    "# Imports by selected importing countries\n",
    "imports_df = pd.read_csv(\"data/ico/imports.csv\")\n",
    "# ICO Composite and group indicator prices\n",
    "indicator_prices_df = pd.read_csv(\"data/ico/indicator-prices.csv\")\n",
    "# Inventories of green coffee in selected importing countries\n",
    "inventories_df = pd.read_csv(\"data/ico/inventories.csv\")\n",
    "# Prices paid to growers in exporting countries\n",
    "prices_growers_df = pd.read_csv(\"data/ico/prices-paid-to-growers.csv\")\n",
    "# Re-exports by selected importing countries\n",
    "exports_df = pd.read_csv(\"data/ico/re-exports.csv\")\n",
    "# Retail prices of roasted coffee in selected importing countries\n",
    "retail_prices_df = pd.read_csv(\"data/ico/retail-prices.csv\")\n",
    "# Total production by all exporting countries\n",
    "total_production_df = pd.read_csv(\"data/ico/total-production.csv\")"
   ],
   "metadata": {
    "collapsed": false
   }
  },
  {
   "cell_type": "code",
   "execution_count": 25,
   "outputs": [
    {
     "data": {
      "text/plain": "           disappearance         1990         1991         1992         1993  \\\n0                Austria  1340.123985  1302.085970  1212.333964  1335.000982   \n1                Belgium          NaN          NaN          NaN          NaN   \n2     Belgium/Luxembourg  1124.109984   708.156980   696.372979   789.436984   \n3               Bulgaria   101.782998    16.761001   174.878012   326.955006   \n4                Croatia          NaN          NaN   134.545004   131.890000   \n\n          1994         1995         1996         1997         1998  ...  \\\n0  1086.218996  1011.769996  1075.788000  1087.079597  1104.738197  ...   \n1          NaN          NaN          NaN          NaN          NaN  ...   \n2   958.214990  1073.014984  1038.637071   886.263764  1309.406477  ...   \n3   352.764006   393.408007   246.474995   274.918003   324.160004  ...   \n4   163.862001   288.481005   304.468998   361.396003   319.730000  ...   \n\n         2009        2010         2011         2012    2013  2014  2015  2016  \\\n0  885.715848  902.854329  1117.345643  1269.019458  1249.0   NaN   NaN   NaN   \n1  934.292881  870.665179   934.468749   914.636559  1245.0   NaN   NaN   NaN   \n2         NaN         NaN          NaN          NaN     NaN   NaN   NaN   NaN   \n3  409.275903  395.357991   359.519751   375.941251   419.0   NaN   NaN   NaN   \n4  365.637529  369.838593   367.153143   360.364120   387.0   NaN   NaN   NaN   \n\n   2017  2018  \n0   NaN   NaN  \n1   NaN   NaN  \n2   NaN   NaN  \n3   NaN   NaN  \n4   NaN   NaN  \n\n[5 rows x 30 columns]",
      "text/html": "<div>\n<style scoped>\n    .dataframe tbody tr th:only-of-type {\n        vertical-align: middle;\n    }\n\n    .dataframe tbody tr th {\n        vertical-align: top;\n    }\n\n    .dataframe thead th {\n        text-align: right;\n    }\n</style>\n<table border=\"1\" class=\"dataframe\">\n  <thead>\n    <tr style=\"text-align: right;\">\n      <th></th>\n      <th>disappearance</th>\n      <th>1990</th>\n      <th>1991</th>\n      <th>1992</th>\n      <th>1993</th>\n      <th>1994</th>\n      <th>1995</th>\n      <th>1996</th>\n      <th>1997</th>\n      <th>1998</th>\n      <th>...</th>\n      <th>2009</th>\n      <th>2010</th>\n      <th>2011</th>\n      <th>2012</th>\n      <th>2013</th>\n      <th>2014</th>\n      <th>2015</th>\n      <th>2016</th>\n      <th>2017</th>\n      <th>2018</th>\n    </tr>\n  </thead>\n  <tbody>\n    <tr>\n      <th>0</th>\n      <td>Austria</td>\n      <td>1340.123985</td>\n      <td>1302.085970</td>\n      <td>1212.333964</td>\n      <td>1335.000982</td>\n      <td>1086.218996</td>\n      <td>1011.769996</td>\n      <td>1075.788000</td>\n      <td>1087.079597</td>\n      <td>1104.738197</td>\n      <td>...</td>\n      <td>885.715848</td>\n      <td>902.854329</td>\n      <td>1117.345643</td>\n      <td>1269.019458</td>\n      <td>1249.0</td>\n      <td>NaN</td>\n      <td>NaN</td>\n      <td>NaN</td>\n      <td>NaN</td>\n      <td>NaN</td>\n    </tr>\n    <tr>\n      <th>1</th>\n      <td>Belgium</td>\n      <td>NaN</td>\n      <td>NaN</td>\n      <td>NaN</td>\n      <td>NaN</td>\n      <td>NaN</td>\n      <td>NaN</td>\n      <td>NaN</td>\n      <td>NaN</td>\n      <td>NaN</td>\n      <td>...</td>\n      <td>934.292881</td>\n      <td>870.665179</td>\n      <td>934.468749</td>\n      <td>914.636559</td>\n      <td>1245.0</td>\n      <td>NaN</td>\n      <td>NaN</td>\n      <td>NaN</td>\n      <td>NaN</td>\n      <td>NaN</td>\n    </tr>\n    <tr>\n      <th>2</th>\n      <td>Belgium/Luxembourg</td>\n      <td>1124.109984</td>\n      <td>708.156980</td>\n      <td>696.372979</td>\n      <td>789.436984</td>\n      <td>958.214990</td>\n      <td>1073.014984</td>\n      <td>1038.637071</td>\n      <td>886.263764</td>\n      <td>1309.406477</td>\n      <td>...</td>\n      <td>NaN</td>\n      <td>NaN</td>\n      <td>NaN</td>\n      <td>NaN</td>\n      <td>NaN</td>\n      <td>NaN</td>\n      <td>NaN</td>\n      <td>NaN</td>\n      <td>NaN</td>\n      <td>NaN</td>\n    </tr>\n    <tr>\n      <th>3</th>\n      <td>Bulgaria</td>\n      <td>101.782998</td>\n      <td>16.761001</td>\n      <td>174.878012</td>\n      <td>326.955006</td>\n      <td>352.764006</td>\n      <td>393.408007</td>\n      <td>246.474995</td>\n      <td>274.918003</td>\n      <td>324.160004</td>\n      <td>...</td>\n      <td>409.275903</td>\n      <td>395.357991</td>\n      <td>359.519751</td>\n      <td>375.941251</td>\n      <td>419.0</td>\n      <td>NaN</td>\n      <td>NaN</td>\n      <td>NaN</td>\n      <td>NaN</td>\n      <td>NaN</td>\n    </tr>\n    <tr>\n      <th>4</th>\n      <td>Croatia</td>\n      <td>NaN</td>\n      <td>NaN</td>\n      <td>134.545004</td>\n      <td>131.890000</td>\n      <td>163.862001</td>\n      <td>288.481005</td>\n      <td>304.468998</td>\n      <td>361.396003</td>\n      <td>319.730000</td>\n      <td>...</td>\n      <td>365.637529</td>\n      <td>369.838593</td>\n      <td>367.153143</td>\n      <td>360.364120</td>\n      <td>387.0</td>\n      <td>NaN</td>\n      <td>NaN</td>\n      <td>NaN</td>\n      <td>NaN</td>\n      <td>NaN</td>\n    </tr>\n  </tbody>\n</table>\n<p>5 rows × 30 columns</p>\n</div>"
     },
     "execution_count": 25,
     "metadata": {},
     "output_type": "execute_result"
    }
   ],
   "source": [
    "disappearance_df.head()"
   ],
   "metadata": {
    "collapsed": false
   }
  },
  {
   "cell_type": "code",
   "execution_count": null,
   "outputs": [],
   "source": [],
   "metadata": {
    "collapsed": false
   }
  },
  {
   "cell_type": "code",
   "execution_count": null,
   "outputs": [],
   "source": [],
   "metadata": {
    "collapsed": false
   }
  }
 ],
 "metadata": {
  "kernelspec": {
   "display_name": "Python 3",
   "language": "python",
   "name": "python3"
  },
  "language_info": {
   "codemirror_mode": {
    "name": "ipython",
    "version": 2
   },
   "file_extension": ".py",
   "mimetype": "text/x-python",
   "name": "python",
   "nbconvert_exporter": "python",
   "pygments_lexer": "ipython2",
   "version": "2.7.6"
  }
 },
 "nbformat": 4,
 "nbformat_minor": 0
}
